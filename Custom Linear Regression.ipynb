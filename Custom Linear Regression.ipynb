{
 "cells": [
  {
   "cell_type": "code",
   "execution_count": 1,
   "id": "e0f87f56",
   "metadata": {},
   "outputs": [],
   "source": [
    "import pandas as pd\n",
    "import numpy as np\n",
    "\n",
    "import matplotlib.pyplot as plt\n",
    "import seaborn as sns\n",
    "import plotly.express as px\n",
    "\n",
    "%matplotlib inline"
   ]
  },
  {
   "cell_type": "code",
   "execution_count": 2,
   "id": "8a0c2e98",
   "metadata": {},
   "outputs": [],
   "source": [
    "x=[1.2,1.5,1.9,2.2,2.4,2.5,2.8,3.1,3.3,3.7,4.2,4.4]\n",
    "y=[1.7,2.4,2.3,3.1,3.7,4.2,4.4,6.1,5.4,5.7,6.4,6.2]"
   ]
  },
  {
   "cell_type": "code",
   "execution_count": 3,
   "id": "ed43fc64",
   "metadata": {},
   "outputs": [
    {
     "data": {
      "text/plain": [
       "Text(0, 0.5, 'Y')"
      ]
     },
     "execution_count": 3,
     "metadata": {},
     "output_type": "execute_result"
    },
    {
     "data": {
      "image/png": "[encoded data removed]",
      "text/plain": [
       "<Figure size 432x288 with 1 Axes>"
      ]
     },
     "metadata": {
      "needs_background": "light"
     },
     "output_type": "display_data"
    }
   ],
   "source": [
    "plt.scatter(x, y, color = 'red', label = 'data points')\n",
    "plt.xlim(1,4.5)\n",
    "plt.ylim(1,7)\n",
    "plt.xlabel('X')\n",
    "plt.ylabel('Y')\n"
   ]
  },
  {
   "cell_type": "code",
   "execution_count": 4,
   "id": "8c9e3774",
   "metadata": {},
   "outputs": [],
   "source": [
    "#x=np.array([1.1,1.3,1.5,2,2.2,2.9,3,3.2,3.2,3.7,3.9,4,4,4.1,4.5,4.9,5.1,5.3,5.9,6,6.8,7.1,7.9,8.2,8.7,9,9.5,9.6,10.3,10.5])\n",
    "#y=np.array([39343,46205,37731,43525,39891,56642,60150,54445,64445,57189,63218,55794,56957,57081,61111,67938,66029,83088,81363,93940,91738,98273,101302,113812,109431,105582,116969,112635,122391,121872])\n"
   ]
  },
  {
   "cell_type": "code",
   "execution_count": 5,
   "id": "d3102292",
   "metadata": {},
   "outputs": [
    {
     "name": "stdout",
     "output_type": "stream",
     "text": [
      "2.77 4.3\n",
      "12\n",
      "12\n"
     ]
    }
   ],
   "source": [
    "mean_x=round(np.mean(x),2)\n",
    "mean_y=round(np.mean(y),2)\n",
    "\n",
    "print(mean_x,mean_y)\n",
    "print(len(x))\n",
    "print(len(y))"
   ]
  },
  {
   "cell_type": "code",
   "execution_count": 6,
   "id": "70fdfff5",
   "metadata": {},
   "outputs": [
    {
     "name": "stdout",
     "output_type": "stream",
     "text": [
      "Theta1 : 1.5670798460288868\n",
      "Theta0 : -0.04081117350001673\n"
     ]
    }
   ],
   "source": [
    "#reg line function =: h theta x = theta 0 + theta 1 * x\n",
    "\n",
    "# to calculate h theta x , first we need to find theta 0 and theta 1 \n",
    "#theta1=len(x)\n",
    "list2=[]\n",
    "list3=[]\n",
    "\n",
    "numerator=0\n",
    "denominator=0\n",
    "for i in range(len(x)):\n",
    "    numerator +=  (x[i] - mean_x) * (y[i]- mean_y)\n",
    "    \n",
    "    denominator += (x[i]- mean_x) **2\n",
    "    \n",
    "    \n",
    "\n",
    "theta1 = numerator/denominator\n",
    "theta0 = mean_y - (theta1 * mean_x)\n",
    "\n",
    "\n",
    "print('Theta1 :',theta1)\n",
    "print('Theta0 :',theta0)\n"
   ]
  },
  {
   "cell_type": "code",
   "execution_count": 7,
   "id": "ea1e85ad",
   "metadata": {},
   "outputs": [
    {
     "name": "stdout",
     "output_type": "stream",
     "text": [
      "[1.8396846417346473, 2.3098085955433136, 2.936640533954868, 3.406764487763535, 3.7201804569693113, 3.8768884415722003, 4.347012395380866, 4.817136349189533, 5.13055231839531, 5.757384256806865, 6.5409241798213085, 6.854340149027086]\n"
     ]
    }
   ],
   "source": [
    "y_pred=[]\n",
    "\n",
    "for  i in range(len(x)):\n",
    "    z=theta0 + (theta1 * x[i])\n",
    "    y_pred.append(z)\n",
    "\n",
    "print(y_pred)"
   ]
  },
  {
   "cell_type": "code",
   "execution_count": 8,
   "id": "db78e87a",
   "metadata": {},
   "outputs": [
    {
     "data": {
      "text/plain": [
       "[<matplotlib.lines.Line2D at 0x1630f44c940>]"
      ]
     },
     "execution_count": 8,
     "metadata": {},
     "output_type": "execute_result"
    },
    {
     "data": {
      "image/png": "[encoded data removed]",
      "text/plain": [
       "<Figure size 432x288 with 1 Axes>"
      ]
     },
     "metadata": {
      "needs_background": "light"
     },
     "output_type": "display_data"
    }
   ],
   "source": [
    "plt.scatter(x,y)\n",
    "plt.plot(x,y_pred)\n"
   ]
  },
  {
   "cell_type": "markdown",
   "id": "044cf584",
   "metadata": {},
   "source": [
    "# # Cost Function"
   ]
  },
  {
   "cell_type": "code",
   "execution_count": 9,
   "id": "93db85b7",
   "metadata": {},
   "outputs": [
    {
     "data": {
      "image/png": "[encoded data removed]",
      "text/plain": [
       "<Figure size 432x288 with 1 Axes>"
      ]
     },
     "metadata": {
      "needs_background": "light"
     },
     "output_type": "display_data"
    }
   ],
   "source": [
    "from sklearn.metrics import mean_squared_error as mse\n",
    "\n",
    "# making lines for different Values of Beta 0.1, 0.8, 1.5\n",
    "#theta1 = 0.1\n",
    "\n",
    "# keeping intercept constant\n",
    "#theta0 = 1.1\n",
    "\n",
    "# to store predicted points\n",
    "def func(theta1,theta0):\n",
    "    \n",
    "    line1 = []\n",
    "\n",
    "    # generating predictions for every data point\n",
    "    for i in range(len(x)):\n",
    "        line1.append(theta0 + theta1 * x[i]  )\n",
    "\n",
    "\n",
    "    plt.scatter(x,y, color = 'red')\n",
    "    plt.plot(x, line1, color = 'black', label = 'line')\n",
    "\n",
    "    MSE = mse(y, line1)\n",
    "\n",
    "    plt.title(\"theta-1  value \"+str(theta1)+\" with MSE \"+ str(MSE))\n",
    "\n",
    "    MSE = mse(y, line1)\n",
    "func(1.5,.04)"
   ]
  },
  {
   "cell_type": "code",
   "execution_count": 20,
   "id": "61099b0e",
   "metadata": {},
   "outputs": [],
   "source": [
    "def Error(theta1,data):\n",
    "    pred=[]\n",
    "    #print(len(pred))\n",
    "    theta0=1.04\n",
    "    for i in range(len(x)):\n",
    "        z=theta0 + theta1 * x[i]\n",
    "        pred.append(z)\n",
    "    \n",
    "    MSE = mse(y, pred)\n",
    "    return MSE\n",
    "    #print(y)\n",
    "    #print(pred)\n",
    "    \n",
    "\n",
    "\n",
    "#Error(1.5,data=x)\n"
   ]
  },
  {
   "cell_type": "code",
   "execution_count": 21,
   "id": "ad6c28f9",
   "metadata": {},
   "outputs": [],
   "source": [
    "slope = [i/100 for i in range(1,250)]\n",
    "#print(slope)\n",
    "Cost = []\n",
    "for i in slope:\n",
    "    cost = Error(theta1 = i,data=x)\n",
    "    Cost.append(cost)\n"
   ]
  },
  {
   "cell_type": "code",
   "execution_count": 22,
   "id": "5d50febe",
   "metadata": {},
   "outputs": [
    {
     "data": {
      "text/html": [
       "<div>\n",
       "<style scoped>\n",
       "    .dataframe tbody tr th:only-of-type {\n",
       "        vertical-align: middle;\n",
       "    }\n",
       "\n",
       "    .dataframe tbody tr th {\n",
       "        vertical-align: top;\n",
       "    }\n",
       "\n",
       "    .dataframe thead th {\n",
       "        text-align: right;\n",
       "    }\n",
       "</style>\n",
       "<table border=\"1\" class=\"dataframe\">\n",
       "  <thead>\n",
       "    <tr style=\"text-align: right;\">\n",
       "      <th></th>\n",
       "      <th>Beta</th>\n",
       "      <th>Cost</th>\n",
       "    </tr>\n",
       "  </thead>\n",
       "  <tbody>\n",
       "    <tr>\n",
       "      <th>0</th>\n",
       "      <td>0.01</td>\n",
       "      <td>12.970156</td>\n",
       "    </tr>\n",
       "    <tr>\n",
       "      <th>1</th>\n",
       "      <td>0.02</td>\n",
       "      <td>12.762766</td>\n",
       "    </tr>\n",
       "    <tr>\n",
       "      <th>2</th>\n",
       "      <td>0.03</td>\n",
       "      <td>12.557095</td>\n",
       "    </tr>\n",
       "    <tr>\n",
       "      <th>3</th>\n",
       "      <td>0.04</td>\n",
       "      <td>12.353144</td>\n",
       "    </tr>\n",
       "    <tr>\n",
       "      <th>4</th>\n",
       "      <td>0.05</td>\n",
       "      <td>12.150913</td>\n",
       "    </tr>\n",
       "  </tbody>\n",
       "</table>\n",
       "</div>"
      ],
      "text/plain": [
       "   Beta       Cost\n",
       "0  0.01  12.970156\n",
       "1  0.02  12.762766\n",
       "2  0.03  12.557095\n",
       "3  0.04  12.353144\n",
       "4  0.05  12.150913"
      ]
     },
     "execution_count": 22,
     "metadata": {},
     "output_type": "execute_result"
    }
   ],
   "source": [
    "# Arranging in DataFrame\n",
    "\n",
    "Cost_table = pd.DataFrame({\n",
    "'Beta' : slope,\n",
    "'Cost' : Cost\n",
    "})\n",
    "\n",
    "\n",
    "xmin=Cost_table['Cost'].min()\n",
    "Cost_table.head()\n"
   ]
  },
  {
   "cell_type": "code",
   "execution_count": 23,
   "id": "957f839b",
   "metadata": {},
   "outputs": [
    {
     "data": {
      "text/html": [
       "<div>\n",
       "<style scoped>\n",
       "    .dataframe tbody tr th:only-of-type {\n",
       "        vertical-align: middle;\n",
       "    }\n",
       "\n",
       "    .dataframe tbody tr th {\n",
       "        vertical-align: top;\n",
       "    }\n",
       "\n",
       "    .dataframe thead th {\n",
       "        text-align: right;\n",
       "    }\n",
       "</style>\n",
       "<table border=\"1\" class=\"dataframe\">\n",
       "  <thead>\n",
       "    <tr style=\"text-align: right;\">\n",
       "      <th></th>\n",
       "      <th>Beta</th>\n",
       "      <th>Cost</th>\n",
       "    </tr>\n",
       "  </thead>\n",
       "  <tbody>\n",
       "    <tr>\n",
       "      <th>121</th>\n",
       "      <td>1.22</td>\n",
       "      <td>0.360686</td>\n",
       "    </tr>\n",
       "  </tbody>\n",
       "</table>\n",
       "</div>"
      ],
      "text/plain": [
       "     Beta      Cost\n",
       "121  1.22  0.360686"
      ]
     },
     "execution_count": 23,
     "metadata": {},
     "output_type": "execute_result"
    }
   ],
   "source": [
    "Cost_table[Cost_table.loc[:,'Cost']==xmin]"
   ]
  },
  {
   "cell_type": "code",
   "execution_count": 24,
   "id": "e6e4bd53",
   "metadata": {},
   "outputs": [
    {
     "data": {
      "text/plain": [
       "<matplotlib.legend.Legend at 0x1630f9b8c70>"
      ]
     },
     "execution_count": 24,
     "metadata": {},
     "output_type": "execute_result"
    },
    {
     "data": {
      "image/png": "[encoded data removed]",
      "text/plain": [
       "<Figure size 720x504 with 1 Axes>"
      ]
     },
     "metadata": {
      "needs_background": "light"
     },
     "output_type": "display_data"
    }
   ],
   "source": [
    "# plotting the cost values corresponding to every value of Beta\n",
    "fig=plt.figure(figsize=(10,7))\n",
    "plt.plot(Cost_table.Beta, Cost_table.Cost, color = 'blue', label = 'Cost Function Curve')\n",
    "plt.xlabel('Value of Beta')\n",
    "plt.ylabel('Cost')\n",
    "plt.legend()"
   ]
  },
  {
   "cell_type": "code",
   "execution_count": null,
   "id": "613ebb7a",
   "metadata": {},
   "outputs": [],
   "source": []
  },
  {
   "cell_type": "code",
   "execution_count": null,
   "id": "31b20165",
   "metadata": {},
   "outputs": [],
   "source": []
  },
  {
   "cell_type": "code",
   "execution_count": null,
   "id": "6d9ae117",
   "metadata": {},
   "outputs": [],
   "source": []
  }
 ],
 "metadata": {
  "kernelspec": {
   "display_name": "Python 3 (ipykernel)",
   "language": "python",
   "name": "python3"
  },
  "language_info": {
   "codemirror_mode": {
    "name": "ipython",
    "version": 3
   },
   "file_extension": ".py",
   "mimetype": "text/x-python",
   "name": "python",
   "nbconvert_exporter": "python",
   "pygments_lexer": "ipython3",
   "version": "3.10.0"
  }
 },
 "nbformat": 4,
 "nbformat_minor": 5
}
